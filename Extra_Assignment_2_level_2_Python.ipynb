{
  "nbformat": 4,
  "nbformat_minor": 0,
  "metadata": {
    "colab": {
      "provenance": []
    },
    "kernelspec": {
      "name": "python3",
      "display_name": "Python 3"
    },
    "language_info": {
      "name": "python"
    }
  },
  "cells": [
    {
      "cell_type": "code",
      "execution_count": null,
      "metadata": {
        "colab": {
          "base_uri": "https://localhost:8080/"
        },
        "id": "K3fpBqesQi_n",
        "outputId": "df70509f-211c-44fb-8f28-6c3c9ef5f18e"
      },
      "outputs": [
        {
          "output_type": "stream",
          "name": "stdout",
          "text": [
            "0\n",
            "1\n",
            "2\n",
            "3\n",
            "4\n",
            "5\n",
            "6\n",
            "7\n",
            "8\n",
            "9\n",
            "10\n",
            "11\n",
            "12\n",
            "13\n",
            "14\n",
            "15\n",
            "16\n",
            "17\n",
            "18\n",
            "19\n"
          ]
        }
      ],
      "source": [
        "# print 0 to 20 by using range\n",
        "for num in range(0,20):\n",
        "  print(num)"
      ]
    },
    {
      "cell_type": "code",
      "source": [
        "# print range 10 to 20\n",
        "for num in range(10,20):\n",
        "      print(num, end=' ')\n"
      ],
      "metadata": {
        "colab": {
          "base_uri": "https://localhost:8080/"
        },
        "id": "v5s0CCzkR2dp",
        "outputId": "a7ee5084-2fcc-4c8f-d199-581d88a9ca45"
      },
      "execution_count": null,
      "outputs": [
        {
          "output_type": "stream",
          "name": "stdout",
          "text": [
            "10 11 12 13 14 15 16 17 18 19 "
          ]
        }
      ]
    },
    {
      "cell_type": "code",
      "source": [
        "# Print number of items in the list by using 'len'\n",
        "list2=[10, 20, 14, 55, 43, 87, 76]\n",
        "print(list2)\n",
        "print(\"Number of items in list1:\")\n",
        "print(len(list2))\n"
      ],
      "metadata": {
        "colab": {
          "base_uri": "https://localhost:8080/"
        },
        "id": "pTaI5QQGSbgj",
        "outputId": "401d8d88-55ee-42fa-810a-2c29554d4329"
      },
      "execution_count": null,
      "outputs": [
        {
          "output_type": "stream",
          "name": "stdout",
          "text": [
            "[10, 20, 14, 55, 43, 87, 76]\n",
            "Number of items in list1:\n",
            "7\n"
          ]
        }
      ]
    },
    {
      "cell_type": "code",
      "source": [
        "print(\"Artificial Intelligence\")\n",
        "name=\"Artificial Intelligence\"\n",
        "print(name[0])\n",
        "print(name[1])\n",
        "print(name[2])\n",
        "print(name[3])\n",
        "print(name[4])\n",
        "print(name[5])\n",
        "print(name[6])\n",
        "print(name[7])\n",
        "print(name[8])\n",
        "print(name[9])\n",
        "print(name[10])\n",
        "print(name[11])\n",
        "print(name[12])\n",
        "print(name[13])\n",
        "print(name[14])\n",
        "print(name[15])\n",
        "print(name[16])\n",
        "print(name[17])\n",
        "print(name[18])\n",
        "print(name[19])\n",
        "print(name[20])\n",
        "print(name[21])\n",
        "print(name[22])\n",
        "\n"
      ],
      "metadata": {
        "id": "34X6Y028GwcK",
        "colab": {
          "base_uri": "https://localhost:8080/"
        },
        "outputId": "b28f67d3-2db7-4216-d33b-f3a94f319fd6"
      },
      "execution_count": 23,
      "outputs": [
        {
          "output_type": "stream",
          "name": "stdout",
          "text": [
            "Artificial Intelligence\n",
            "A\n",
            "r\n",
            "t\n",
            "i\n",
            "f\n",
            "i\n",
            "c\n",
            "i\n",
            "a\n",
            "l\n",
            " \n",
            "I\n",
            "n\n",
            "t\n",
            "e\n",
            "l\n",
            "l\n",
            "i\n",
            "g\n",
            "e\n",
            "n\n",
            "c\n",
            "e\n"
          ]
        }
      ]
    },
    {
      "cell_type": "code",
      "source": [
        "print(\"-Your Name-\")\n",
        "print(\"-Your Age-\")\n",
        "print(\"-Your Profession-\")"
      ],
      "metadata": {
        "colab": {
          "base_uri": "https://localhost:8080/"
        },
        "id": "YwUYVVk3Ncf5",
        "outputId": "198f2366-100d-4b6e-b42d-ee98948567af"
      },
      "execution_count": 24,
      "outputs": [
        {
          "output_type": "stream",
          "name": "stdout",
          "text": [
            "-Your Name-\n",
            "-Your Age-\n",
            "-Your Profession-\n"
          ]
        }
      ]
    },
    {
      "cell_type": "code",
      "source": [
        "# Print this mixered datatype using Tuples\n",
        "Tuple1 = (1, 'welcome',2, 'Hope')\n",
        "print(Tuple1)"
      ],
      "metadata": {
        "colab": {
          "base_uri": "https://localhost:8080/"
        },
        "id": "0unxaK2FO5jZ",
        "outputId": "66546746-6c38-4604-ac46-55c215a72ce2"
      },
      "execution_count": 28,
      "outputs": [
        {
          "output_type": "stream",
          "name": "stdout",
          "text": [
            "(1, 'welcome', 2, 'Hope')\n"
          ]
        }
      ]
    },
    {
      "cell_type": "code",
      "source": [
        "Tuple1 = (0, 1, 2, 3)\n",
        "Tuple2 = ('python', 'HOPE')\n",
        "Tuple3 = (Tuple1, Tuple2)\n",
        "print(Tuple3)"
      ],
      "metadata": {
        "colab": {
          "base_uri": "https://localhost:8080/"
        },
        "id": "nZFqcI9_PlfM",
        "outputId": "4a25950e-beac-405b-9860-371730cd858e"
      },
      "execution_count": 29,
      "outputs": [
        {
          "output_type": "stream",
          "name": "stdout",
          "text": [
            "((0, 1, 2, 3), ('python', 'HOPE'))\n"
          ]
        }
      ]
    },
    {
      "cell_type": "code",
      "source": [
        "# print Odd Numbers in the list\n",
        "numbers = (20, 10, 16, 19, 25, 1, 276, 188)\n",
        "for num in numbers:\n",
        "    if((num%2)!=0):\n",
        "        print(num,\"is odd\")"
      ],
      "metadata": {
        "colab": {
          "base_uri": "https://localhost:8080/"
        },
        "id": "QjkYKGIpQsT7",
        "outputId": "683442e3-e12a-41c3-f37d-df38335d86a3"
      },
      "execution_count": 32,
      "outputs": [
        {
          "output_type": "stream",
          "name": "stdout",
          "text": [
            "19 is odd\n",
            "25 is odd\n",
            "1 is odd\n"
          ]
        }
      ]
    },
    {
      "cell_type": "code",
      "source": [
        "# print Even numbers in the list\n",
        "numbers = (20, 10, 16, 19, 25, 1, 276, 188)\n",
        "for num in numbers:\n",
        "    if((num%2)==0):\n",
        "      print(num,\"is odd\")\n"
      ],
      "metadata": {
        "colab": {
          "base_uri": "https://localhost:8080/"
        },
        "id": "h66NJFWFRJ1G",
        "outputId": "86574342-49c0-43c1-a497-0a14876eeaed"
      },
      "execution_count": 83,
      "outputs": [
        {
          "output_type": "stream",
          "name": "stdout",
          "text": [
            "20 is odd\n",
            "10 is odd\n",
            "16 is odd\n",
            "276 is odd\n",
            "188 is odd\n"
          ]
        }
      ]
    },
    {
      "cell_type": "code",
      "source": [],
      "metadata": {
        "id": "uEtRH2o1S1as"
      },
      "execution_count": null,
      "outputs": []
    }
  ]
}
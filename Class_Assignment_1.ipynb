{
  "nbformat": 4,
  "nbformat_minor": 0,
  "metadata": {
    "colab": {
      "provenance": []
    },
    "kernelspec": {
      "name": "python3",
      "display_name": "Python 3"
    },
    "language_info": {
      "name": "python"
    },
    "accelerator": "TPU"
  },
  "cells": [
    {
      "cell_type": "code",
      "execution_count": null,
      "metadata": {
        "id": "EY3K9Mt6t6dh",
        "colab": {
          "base_uri": "https://localhost:8080/"
        },
        "outputId": "9b42b347-c827-43d4-99fd-a969f56ac65d"
      },
      "outputs": [
        {
          "output_type": "stream",
          "name": "stdout",
          "text": [
            "Sub-fields in AI are:\n",
            "Machine Learning\n",
            "Neural Networks\n",
            "Vision\n",
            "Robotics\n",
            "Speech Processing\n",
            "Natural Language Processing\n"
          ]
        }
      ],
      "source": [
        "# Create a class and function, and list out the items in the list\n",
        "class SubfieldsInAI():\n",
        "  def subfields():\n",
        "    print(\"Sub-fields in AI are:\")\n",
        "    print(\"Machine Learning\")\n",
        "    print(\"Neural Networks\")\n",
        "    print(\"Vision\")\n",
        "    print(\"Robotics\")\n",
        "    print(\"Speech Processing\")\n",
        "    print(\"Natural Language Processing\")\n",
        "SubfieldsInAI.subfields()\n",
        "\n"
      ]
    },
    {
      "cell_type": "code",
      "source": [
        "# Create a function that checks whether the given number is Odd or Even\n",
        "class OddEven():\n",
        "  def OddEven():\n",
        "    number=(int(input(\"Enter a number:\")))\n",
        "    if((number%2)==0):\n",
        "      print(number,\"is Even number\")\n",
        "    else:\n",
        "      print(number,\"is odd number\")\n",
        "OddEven.OddEven()"
      ],
      "metadata": {
        "colab": {
          "base_uri": "https://localhost:8080/"
        },
        "id": "YIL2Xs6uu2Z9",
        "outputId": "b26eb215-1c09-453c-e9ee-3f9e56e46980"
      },
      "execution_count": null,
      "outputs": [
        {
          "output_type": "stream",
          "name": "stdout",
          "text": [
            "Enter a number:52452\n",
            "52452 is Even number\n"
          ]
        }
      ]
    },
    {
      "cell_type": "code",
      "source": [
        "# Create a function that tells elegibility of marriage for male and female according to their age limit like 21 for male and 18 for female\n",
        "class ElegiblityForMarriage():\n",
        "  def Elegible():\n",
        "    Gender=input(\"Your Gender:\")\n",
        "    age=int(input(\"Your Age:\"))\n",
        "    if Gender==\"Male\" and age<18:\n",
        "      print(\"ELIGIBLE\")\n",
        "    else:\n",
        "      print(\"NOT ELIGIBLE\")\n",
        "ElegiblityForMarriage.Elegible()\n"
      ],
      "metadata": {
        "colab": {
          "base_uri": "https://localhost:8080/"
        },
        "id": "JGIjIUQzxPZH",
        "outputId": "4010bbec-e711-4274-95e2-64265b9b5d15"
      },
      "execution_count": null,
      "outputs": [
        {
          "output_type": "stream",
          "name": "stdout",
          "text": [
            "Your Gender:Male\n",
            "Your Age:20\n",
            "NOT ELIGIBLE\n"
          ]
        }
      ]
    },
    {
      "cell_type": "code",
      "source": [
        "# calculate the percentage of your 10th mark\n",
        "class FindPercent():\n",
        "  def percentage():\n",
        "      subject1 = int(input(\"Subject1 = \"))\n",
        "      subject2 = int(input(\"Subject2 = \"))\n",
        "      subject3 = int(input(\"Subject3 = \"))\n",
        "      subject4 = int(input(\"Subject4 = \"))\n",
        "      subject5 = int(input(\"Subject5 = \"))\n",
        "      total = subject1 + subject2 + subject3 + subject4 + subject5\n",
        "      percentage = (total / 500) * 100\n",
        "      print(\"Total: \", total)\n",
        "      print(\"Percentage: \", percentage)\n",
        "FindPercent.percentage()\n",
        "\n"
      ],
      "metadata": {
        "colab": {
          "base_uri": "https://localhost:8080/"
        },
        "id": "SceyG8tbx85Q",
        "outputId": "a9adcf2c-2123-4f3b-b603-8d91d502002d"
      },
      "execution_count": null,
      "outputs": [
        {
          "output_type": "stream",
          "name": "stdout",
          "text": [
            "Subject1 = 98\n",
            "Subject2 = 87\n",
            "Subject3 = 95\n",
            "Subject4 = 95\n",
            "Subject5 = 93\n",
            "Total:  468\n",
            "Percentage:  93.60000000000001\n"
          ]
        }
      ]
    },
    {
      "cell_type": "code",
      "source": [
        "#print area and perimeter of triangle using class and functions\n",
        "class traingle():\n",
        "  def triangle():\n",
        "      height = float(input(\"Height: \"))\n",
        "      breadth = float(input(\"Breadth: \"))\n",
        "      print(\"Area formula: (Height*Breadth)/2\")\n",
        "      area = (height * breadth) / 2\n",
        "      print(\"Area of Triangle: \", area)\n",
        "  triangle()\n",
        "  def triangle():\n",
        "      Height1 = int(input(\"Height1:\"))\n",
        "      Height2 = int(input(\"Height2: \"))\n",
        "      Breadth = int(input(\"Breadth: \"))\n",
        "      print(\"Perimeter formula: Height1+Height2+Breadth\")\n",
        "      add = Height1+Height2+Breadth\n",
        "      print(\"Perimeter of Triangle:\",add)\n",
        "traingle.triangle()\n",
        "\n"
      ],
      "metadata": {
        "id": "LGfUayCc4rsa",
        "colab": {
          "base_uri": "https://localhost:8080/"
        },
        "outputId": "ff2c412f-763e-4be1-d788-722c045add35"
      },
      "execution_count": 2,
      "outputs": [
        {
          "output_type": "stream",
          "name": "stdout",
          "text": [
            "Height: 32\n",
            "Breadth: 34\n",
            "Area formula: (Height*Breadth)/2\n",
            "Area of Triangle:  544.0\n",
            "Height1:2\n",
            "Height2: 4\n",
            "Breadth: 4\n",
            "Perimeter formula: Height1+Height2+Breadth\n",
            "Perimeter of Triangle: 10\n"
          ]
        }
      ]
    },
    {
      "cell_type": "code",
      "source": [],
      "metadata": {
        "id": "UzyFRo8Y8BK_"
      },
      "execution_count": null,
      "outputs": []
    }
  ]
}
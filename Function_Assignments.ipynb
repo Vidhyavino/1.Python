{
  "nbformat": 4,
  "nbformat_minor": 0,
  "metadata": {
    "colab": {
      "provenance": []
    },
    "kernelspec": {
      "name": "python3",
      "display_name": "Python 3"
    },
    "language_info": {
      "name": "python"
    }
  },
  "cells": [
    {
      "cell_type": "code",
      "source": [
        "# Create Function\n",
        "def subfield():\n",
        "    print(\"Sub-fields in AI are:\")\n",
        "    print(\"Machine Learning\")\n",
        "    print(\"Neural Networks\")\n",
        "    print(\"Vision\")\n",
        "    print(\"Robotics\")\n",
        "    print(\"Speech Processing\")\n",
        "    print(\"Natural Language Processing\")\n",
        "subfield()\n"
      ],
      "metadata": {
        "colab": {
          "base_uri": "https://localhost:8080/"
        },
        "id": "2TjPTUVhJvro",
        "outputId": "f20fcdc6-cdb1-40a8-e72a-a50e1be556ba"
      },
      "execution_count": 6,
      "outputs": [
        {
          "output_type": "stream",
          "name": "stdout",
          "text": [
            "Sub-fields in AI are:\n",
            "Machine Learning\n",
            "Neural Networks\n",
            "Vision\n",
            "Robotics\n",
            "Speech Processing\n",
            "Natural Language Processing\n"
          ]
        }
      ]
    },
    {
      "cell_type": "code",
      "source": [
        "# Create Function\n",
        "def OddEven():\n",
        "  number=(int(input(\"Enter a number:\")))\n",
        "  if((number%2)==0):\n",
        "    print(number,\"is Even number\")\n",
        "  else:\n",
        "    print(number,\"is odd number\")\n",
        "OddEven()"
      ],
      "metadata": {
        "colab": {
          "base_uri": "https://localhost:8080/"
        },
        "id": "YgHoAVvaNJkC",
        "outputId": "c678da8e-9d7f-4293-a611-5d236449b9b5"
      },
      "execution_count": 13,
      "outputs": [
        {
          "output_type": "stream",
          "name": "stdout",
          "text": [
            "Enter a number:4\n",
            "4 is Even number\n"
          ]
        }
      ]
    },
    {
      "cell_type": "code",
      "source": [
        "# Create Function\n",
        "def Elegible():\n",
        "  Gender=input(\"Your Gender:\")\n",
        "  age=int(input(\"Your Age:\"))\n",
        "  if Gender==\"Male\" and age<18:\n",
        "    print(\"ELIGIBLE\")\n",
        "  else:\n",
        "    print(\"NOT ELIGIBLE\")\n",
        "Elegible()"
      ],
      "metadata": {
        "colab": {
          "base_uri": "https://localhost:8080/"
        },
        "id": "aYvriXamOTR3",
        "outputId": "5408c726-e4f2-410b-fd4d-e2f57ec73c7a"
      },
      "execution_count": 21,
      "outputs": [
        {
          "output_type": "stream",
          "name": "stdout",
          "text": [
            "Your Gender:Male\n",
            "Your Age:18\n",
            "NOT ELIGIBLE\n"
          ]
        }
      ]
    },
    {
      "cell_type": "code",
      "source": [
        "# Create Function\n",
        "def percentage():\n",
        "    subject1 = int(input(\"Subject1 = \"))\n",
        "    subject2 = int(input(\"Subject2 = \"))\n",
        "    subject3 = int(input(\"Subject3 = \"))\n",
        "    subject4 = int(input(\"Subject4 = \"))\n",
        "    subject5 = int(input(\"Subject5 = \"))\n",
        "    total = subject1 + subject2 + subject3 + subject4 + subject5\n",
        "    percentage = (total / 500) * 100\n",
        "    print(\"Total: \", total)\n",
        "    print(\"Percentage: \", percentage)\n",
        "percentage()\n",
        "\n",
        ""
      ],
      "metadata": {
        "colab": {
          "base_uri": "https://localhost:8080/"
        },
        "id": "j6pPyQdhQMk6",
        "outputId": "959406bf-a528-494e-b8e9-85ec41b369ea"
      },
      "execution_count": 28,
      "outputs": [
        {
          "output_type": "stream",
          "name": "stdout",
          "text": [
            "Subject1 = 23\n",
            "Subject2 = 45\n",
            "Subject3 = 34\n",
            "Subject4 = 23\n",
            "Subject5 = 23\n",
            "Total:  148\n",
            "Percentage:  29.599999999999998\n"
          ]
        }
      ]
    },
    {
      "cell_type": "code",
      "source": [
        "# Create Function\n",
        "def triangle():\n",
        "    height = float(input(\"Height: \"))\n",
        "    breadth = float(input(\"Breadth: \"))\n",
        "    print(\"Area formula: (Height*Breadth)/2\")\n",
        "    area = (height * breadth) / 2\n",
        "    print(\"Area of Triangle: \", area)\n",
        "triangle()\n",
        "def triangle():\n",
        "    Height1 = int(input(\"Height1:\"))\n",
        "    Height2 = int(input(\"Height2: \"))\n",
        "    Breadth = int(input(\"Breadth: \"))\n",
        "    print(\"Perimeter formula: Height1+Height2+Breadth\")\n",
        "    add = Height1+Height2+Breadth\n",
        "    print(\"Perimeter of Triangle:\",add)\n",
        "triangle()\n",
        "\n"
      ],
      "metadata": {
        "colab": {
          "base_uri": "https://localhost:8080/"
        },
        "id": "1e1Eyy2sSaTp",
        "outputId": "0a30ec03-858e-44b2-dbf6-3d98dc033a2b"
      },
      "execution_count": 34,
      "outputs": [
        {
          "output_type": "stream",
          "name": "stdout",
          "text": [
            "Height: 3\n",
            "Breadth: 4\n",
            "Area formula: (Height*Breadth)/2\n",
            "Area of Triangle:  6.0\n",
            "Height1:3\n",
            "Height2: 4\n",
            "Breadth: 45\n",
            "Perimeter formula: Height1+Height2+Breadth\n",
            "Perimeter of Triangle: 52\n"
          ]
        }
      ]
    },
    {
      "cell_type": "code",
      "source": [],
      "metadata": {
        "id": "qVzXWCY6UYzu"
      },
      "execution_count": null,
      "outputs": []
    }
  ]
}
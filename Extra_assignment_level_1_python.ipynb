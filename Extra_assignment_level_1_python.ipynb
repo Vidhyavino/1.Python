{
  "nbformat": 4,
  "nbformat_minor": 0,
  "metadata": {
    "colab": {
      "provenance": []
    },
    "kernelspec": {
      "name": "python3",
      "display_name": "Python 3"
    },
    "language_info": {
      "name": "python"
    }
  },
  "cells": [
    {
      "cell_type": "code",
      "execution_count": 1,
      "metadata": {
        "colab": {
          "base_uri": "https://localhost:8080/"
        },
        "id": "adwFjTXvm1LV",
        "outputId": "8b8dc909-281e-4e49-b260-e1c5e762b21d"
      },
      "outputs": [
        {
          "output_type": "stream",
          "name": "stdout",
          "text": [
            "HOPE AI\n"
          ]
        }
      ],
      "source": [
        "print(\"HOPE AI\")"
      ]
    },
    {
      "cell_type": "code",
      "source": [
        "#Buy input\n",
        "\n",
        "print(\"Enter your institute name? : HOPE AI\")"
      ],
      "metadata": {
        "colab": {
          "base_uri": "https://localhost:8080/"
        },
        "id": "9cqxnkYyoX8t",
        "outputId": "b38c16eb-98fc-4ade-d80a-dc4c62ef5350"
      },
      "execution_count": 7,
      "outputs": [
        {
          "output_type": "stream",
          "name": "stdout",
          "text": [
            "Enter your institute name? : HOPE AI\n"
          ]
        }
      ]
    },
    {
      "cell_type": "code",
      "source": [
        "#Buy inputs\n",
        "Name=\"Raj\"\n",
        "print(\"Enter your name:\",Name)\n",
        "age=\"15\"\n",
        "print(\"Enter your age:\",age)\n",
        "schoolname=\"Guru school\"\n",
        "print(\"Enter your school name:\",schoolname)\n",
        "degree=\"B.E CSE\"\n",
        "print(\"Enter your degree:\",degree)\n"
      ],
      "metadata": {
        "colab": {
          "base_uri": "https://localhost:8080/"
        },
        "id": "DVs-tYWZyfLY",
        "outputId": "3d92c5fa-650a-4fb6-ff69-d756875cea9b"
      },
      "execution_count": 21,
      "outputs": [
        {
          "output_type": "stream",
          "name": "stdout",
          "text": [
            "Enter your name: Raj\n",
            "Enter your age: 15\n",
            "Enter your school name: Guru school\n",
            "Enter your degree: B.E CSE\n"
          ]
        }
      ]
    },
    {
      "cell_type": "code",
      "source": [
        "#Addition\n",
        "num1=int(input(\"a=\"))\n",
        "num2=int(input(\"b=\"))\n",
        "add=num1+num2\n",
        "print(\"add=\",add)"
      ],
      "metadata": {
        "colab": {
          "base_uri": "https://localhost:8080/"
        },
        "id": "mMoC6XvS0mnY",
        "outputId": "d380243a-3c7c-4c5e-deeb-a7a066e58aeb"
      },
      "execution_count": 28,
      "outputs": [
        {
          "output_type": "stream",
          "name": "stdout",
          "text": [
            "a=43\n",
            "b=34\n",
            "add= 77\n"
          ]
        }
      ]
    },
    {
      "cell_type": "code",
      "source": [
        "#Subtraction\n",
        "num1=int(input(\"a=\"))\n",
        "num2=int(input(\"b=\"))\n",
        "sub=num1-num2\n",
        "print(\"sub=\",sub)\n"
      ],
      "metadata": {
        "colab": {
          "base_uri": "https://localhost:8080/"
        },
        "id": "SjmvH5t_8nnZ",
        "outputId": "806f3c39-33a2-4c42-8306-d791de6c9ed0"
      },
      "execution_count": 29,
      "outputs": [
        {
          "output_type": "stream",
          "name": "stdout",
          "text": [
            "a=43\n",
            "b=34\n",
            "sub= 9\n"
          ]
        }
      ]
    },
    {
      "cell_type": "code",
      "source": [
        "#Multiplication\n",
        "num1=int(input(\"a=\"))\n",
        "num2=int(input(\"b=\"))\n",
        "Mul=num1*num2\n",
        "print(\"Mul=\",Mul)\n"
      ],
      "metadata": {
        "colab": {
          "base_uri": "https://localhost:8080/"
        },
        "id": "BotWnYVm-qpF",
        "outputId": "a907e16d-c743-4f4c-c723-62852793c2c8"
      },
      "execution_count": 30,
      "outputs": [
        {
          "output_type": "stream",
          "name": "stdout",
          "text": [
            "a=63\n",
            "b=97\n",
            "Mul= 6111\n"
          ]
        }
      ]
    },
    {
      "cell_type": "code",
      "source": [
        "#Division\n",
        "num1=int(input(\"a=\"))\n",
        "num2=int(input(\"b=\"))\n",
        "div=num1/num2\n",
        "print(\"Float Div=\",div)\n"
      ],
      "metadata": {
        "colab": {
          "base_uri": "https://localhost:8080/"
        },
        "id": "Nc-YZ21l-_Yp",
        "outputId": "bb9fd33c-3dd8-4a47-dc12-22a82c3b3e76"
      },
      "execution_count": 35,
      "outputs": [
        {
          "output_type": "stream",
          "name": "stdout",
          "text": [
            "a=76\n",
            "b=31\n",
            "Float Div= 2.4516129032258065\n"
          ]
        }
      ]
    },
    {
      "cell_type": "code",
      "source": [
        "#Floor division\n",
        "num1=int(input(\"a=\"))\n",
        "num2=int(input(\"b=\"))\n",
        "floordiv=num1//num2\n",
        "print(\"Floor Div=\",floordiv)"
      ],
      "metadata": {
        "colab": {
          "base_uri": "https://localhost:8080/"
        },
        "id": "7luYQcq6_cup",
        "outputId": "bb5329e5-3d70-4d57-d008-58700e49c03c"
      },
      "execution_count": 36,
      "outputs": [
        {
          "output_type": "stream",
          "name": "stdout",
          "text": [
            "a=76\n",
            "b=31\n",
            "Floor Div= 2\n"
          ]
        }
      ]
    },
    {
      "cell_type": "code",
      "source": [
        "#Modulo\n",
        "num1=int(input(\"a=\"))\n",
        "num2=int(input(\"b=\"))\n",
        "Modulo=num1%num2\n",
        "print(\"Modulo=\",Modulo)"
      ],
      "metadata": {
        "colab": {
          "base_uri": "https://localhost:8080/"
        },
        "id": "shhXyHBxPl9M",
        "outputId": "4beab2c3-d051-417c-9760-2f7da7c7dd97"
      },
      "execution_count": 37,
      "outputs": [
        {
          "output_type": "stream",
          "name": "stdout",
          "text": [
            "a=76\n",
            "b=31\n",
            "Modulo= 14\n"
          ]
        }
      ]
    },
    {
      "cell_type": "code",
      "source": [
        "#Power\n",
        "num1=int(input(\"a=\"))\n",
        "num2=int(input(\"b=\"))\n",
        "Power=num1**num2\n",
        "print(\"Power=\",Power)"
      ],
      "metadata": {
        "colab": {
          "base_uri": "https://localhost:8080/"
        },
        "id": "pvAtMKQhQPAX",
        "outputId": "c81ba08d-276d-4972-a69b-642ec9a2d067"
      },
      "execution_count": 38,
      "outputs": [
        {
          "output_type": "stream",
          "name": "stdout",
          "text": [
            "a=4\n",
            "b=4\n",
            "Power= 256\n"
          ]
        }
      ]
    },
    {
      "cell_type": "code",
      "source": [],
      "metadata": {
        "id": "17AuG5n8QpwF"
      },
      "execution_count": null,
      "outputs": []
    }
  ]
}
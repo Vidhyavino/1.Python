{
  "nbformat": 4,
  "nbformat_minor": 0,
  "metadata": {
    "colab": {
      "provenance": []
    },
    "kernelspec": {
      "name": "python3",
      "display_name": "Python 3"
    },
    "language_info": {
      "name": "python"
    }
  },
  "cells": [
    {
      "cell_type": "code",
      "execution_count": 4,
      "metadata": {
        "colab": {
          "base_uri": "https://localhost:8080/"
        },
        "id": "m3yuw2MHXv7Q",
        "outputId": "63f603e7-c9cb-49dc-bb80-5d5f0185c60a"
      },
      "outputs": [
        {
          "output_type": "stream",
          "name": "stdout",
          "text": [
            "value:10\n",
            "Correct\n"
          ]
        }
      ],
      "source": [
        "# print 'CORRECT' if i == 10\n",
        "num = int(input(\"value:\"))\n",
        "i = 10\n",
        "if(i==10):\n",
        "  print(\"Correct\")\n",
        "else:\n",
        "  print(\"Wornge\")\n",
        "\n"
      ]
    },
    {
      "cell_type": "code",
      "source": [
        "# Check the password, using if and else\n",
        "Name = (input(\"Enter the password:\"))\n",
        "password = \"HOPE@123\"\n",
        "if Name==password:\n",
        "  print(\"Your password is correct\")\n",
        "else:\n",
        "  print(\"Your password is wornge\")"
      ],
      "metadata": {
        "colab": {
          "base_uri": "https://localhost:8080/"
        },
        "id": "zexAjuipbi6e",
        "outputId": "c2445f86-cca1-4c63-cadd-c9b97034999a"
      },
      "execution_count": 11,
      "outputs": [
        {
          "output_type": "stream",
          "name": "stdout",
          "text": [
            "Enter the password:HOPE@123\n",
            "Your password is correct\n"
          ]
        }
      ]
    },
    {
      "cell_type": "code",
      "source": [
        "# Catagory the people by their age like children, adult, citizen, senior citizen...\n",
        "age=int(input(\"age:\"))\n",
        "if(age<18):\n",
        "  print(\"Children\")\n",
        "elif(age<25):\n",
        "  print(\"Adult\")\n",
        "elif(age<35):\n",
        "  print(\"citizen\")\n",
        "else:\n",
        "  print(\"senior citizen\")"
      ],
      "metadata": {
        "colab": {
          "base_uri": "https://localhost:8080/"
        },
        "id": "v54vUg0MeU5J",
        "outputId": "63fbd559-fe9b-41cc-cccc-2a2e1a2c65b8"
      },
      "execution_count": 13,
      "outputs": [
        {
          "output_type": "stream",
          "name": "stdout",
          "text": [
            "age:20\n",
            "Adult\n"
          ]
        }
      ]
    },
    {
      "cell_type": "code",
      "source": [
        "# Find whether given number is positive or negative\n",
        "num=int(input(\"Enter any number:\"))\n",
        "if num==1:\n",
        "  print(\"No is positive\")\n",
        "else:\n",
        "  print(\"No is negative\")\n"
      ],
      "metadata": {
        "colab": {
          "base_uri": "https://localhost:8080/"
        },
        "id": "f2TJTnRChdNA",
        "outputId": "8e80f541-05b0-493d-e710-d7c23d1e5e99"
      },
      "execution_count": 15,
      "outputs": [
        {
          "output_type": "stream",
          "name": "stdout",
          "text": [
            "Enter any number:1\n",
            "No is positive\n"
          ]
        }
      ]
    },
    {
      "cell_type": "code",
      "source": [
        "# Check whether the given number is divisible by 5\n",
        "num=int(input(\"Enter a number to check:\"))\n",
        "if num%1:\n",
        "  print(\"is divisible by 5\")\n",
        "else:\n",
        "  print(\"No is not divisible by 5\")"
      ],
      "metadata": {
        "colab": {
          "base_uri": "https://localhost:8080/"
        },
        "id": "eyxcdXSfh7QC",
        "outputId": "41ccb27f-82f5-479a-b45e-e6e3683a9899"
      },
      "execution_count": 17,
      "outputs": [
        {
          "output_type": "stream",
          "name": "stdout",
          "text": [
            "Enter a number to check:22\n",
            "No is not divisible by 5\n"
          ]
        }
      ]
    },
    {
      "cell_type": "code",
      "source": [],
      "metadata": {
        "id": "esvhN_Jpij6x"
      },
      "execution_count": null,
      "outputs": []
    }
  ]
}
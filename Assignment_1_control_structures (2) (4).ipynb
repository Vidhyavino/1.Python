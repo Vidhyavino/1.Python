{
  "nbformat": 4,
  "nbformat_minor": 0,
  "metadata": {
    "colab": {
      "provenance": []
    },
    "kernelspec": {
      "name": "python3",
      "display_name": "Python 3"
    },
    "language_info": {
      "name": "python"
    }
  },
  "cells": [
    {
      "cell_type": "code",
      "source": [
        "print(\"Welcome to Assignment-1\")"
      ],
      "metadata": {
        "id": "fe4lGr4BixQo",
        "colab": {
          "base_uri": "https://localhost:8080/"
        },
        "outputId": "b805a7b8-0279-47d6-c155-4ab28ecde3ca"
      },
      "execution_count": null,
      "outputs": [
        {
          "output_type": "stream",
          "name": "stdout",
          "text": [
            "Welcome to Assignment-1\n"
          ]
        }
      ]
    },
    {
      "cell_type": "code",
      "source": [
        "a=int(input(\"num1=\"))\n",
        "b=int(input(\"num2=\"))\n",
        "add=num1+num2\n",
        "print(\"add=\",add)\n"
      ],
      "metadata": {
        "colab": {
          "base_uri": "https://localhost:8080/"
        },
        "id": "Zx4dr-3kuZWo",
        "outputId": "41b5787b-80e6-4e34-97ff-04b2756cf5fc"
      },
      "execution_count": null,
      "outputs": [
        {
          "output_type": "stream",
          "name": "stdout",
          "text": [
            "num1=10\n",
            "num2=30\n",
            "add= 40\n"
          ]
        }
      ]
    },
    {
      "cell_type": "code",
      "source": [
        "#Body Mass Index\n",
        "BMI=int(input(\"Enter the BMI Index:\"))\n",
        "if BMI in range(18,24):\n",
        "  print(\"Normal\")\n",
        "elif BMI in range(25,29):\n",
        "  print(\"over weight\")\n",
        "else:\n",
        "  print(\"very over weight\")"
      ],
      "metadata": {
        "colab": {
          "base_uri": "https://localhost:8080/"
        },
        "id": "YBxrEsHmvWHO",
        "outputId": "9c71a5e3-72a2-45f7-dfce-a040163cae1b"
      },
      "execution_count": null,
      "outputs": [
        {
          "output_type": "stream",
          "name": "stdout",
          "text": [
            "Enter the BMI Index:34\n",
            "very over weight\n"
          ]
        }
      ]
    },
    {
      "cell_type": "code",
      "source": [],
      "metadata": {
        "id": "UYMdwG7Qx1oE"
      },
      "execution_count": null,
      "outputs": []
    }
  ]
}